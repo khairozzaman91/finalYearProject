{
 "cells": [
  {
   "cell_type": "code",
   "execution_count": null,
   "id": "50c872ca",
   "metadata": {},
   "outputs": [],
   "source": [
    "import cv2\n",
    "import numpy as np\n",
    "import scipy\n",
    "import matplotlib.pyplot as plt"
   ]
  },
  {
   "cell_type": "code",
   "execution_count": null,
   "id": "68154550",
   "metadata": {},
   "outputs": [],
   "source": [
    "# Create a video capture object.\n",
    "cap = cv2.VideoCapture('video/videotraffic.mp4')"
   ]
  },
  {
   "cell_type": "code",
   "execution_count": null,
   "id": "8e787f5d",
   "metadata": {},
   "outputs": [],
   "source": [
    "# Start the video capture loop.\n",
    "while True:\n",
    "    # Read a frame from the video feed.\n",
    "    ret, frame = cap.read()"
   ]
  },
  {
   "cell_type": "code",
   "execution_count": null,
   "id": "34bc0c6a",
   "metadata": {},
   "outputs": [],
   "source": [
    "# Detect objects in the frame.\n",
    "    objects = cv2.CascadeClassifier('cars.xml').detectMultiScale(frame)"
   ]
  },
  {
   "cell_type": "code",
   "execution_count": null,
   "id": "6b021eb0",
   "metadata": {},
   "outputs": [],
   "source": [
    "# Classify the objects.\n",
    "    for (x, y, w, h) in objects:\n",
    "        car_type = 'car'"
   ]
  },
  {
   "cell_type": "code",
   "execution_count": null,
   "id": "447735b5",
   "metadata": {},
   "outputs": [],
   "source": [
    "# Draw a rectangle around the objects.\n",
    "    for (x, y, w, h) in objects:\n",
    "        cv2.rectangle(frame, (x, y), (x + w, y + h), (255, 0, 0), 2)"
   ]
  },
  {
   "cell_type": "code",
   "execution_count": null,
   "id": "65616a67",
   "metadata": {},
   "outputs": [],
   "source": [
    " # Display the frame.\n",
    "    cv2.imshow('frame', frame)"
   ]
  },
  {
   "cell_type": "code",
   "execution_count": null,
   "id": "897d5d0a",
   "metadata": {},
   "outputs": [],
   "source": [
    "# Check if the user wants to quit.\n",
    "    key = cv2.waitKey(1)\n",
    "    if key == 27:\n",
    "        break"
   ]
  },
  {
   "cell_type": "code",
   "execution_count": null,
   "id": "a21fa723",
   "metadata": {},
   "outputs": [],
   "source": [
    "# Release the video capture object.\n",
    "cap.release()"
   ]
  }
 ],
 "metadata": {
  "kernelspec": {
   "display_name": "Python 3 (ipykernel)",
   "language": "python",
   "name": "python3"
  },
  "language_info": {
   "codemirror_mode": {
    "name": "ipython",
    "version": 3
   },
   "file_extension": ".py",
   "mimetype": "text/x-python",
   "name": "python",
   "nbconvert_exporter": "python",
   "pygments_lexer": "ipython3",
   "version": "3.11.4"
  }
 },
 "nbformat": 4,
 "nbformat_minor": 5
}
