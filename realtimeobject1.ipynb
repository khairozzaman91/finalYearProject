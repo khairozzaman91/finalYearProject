{
 "cells": [
  {
   "cell_type": "code",
   "execution_count": null,
   "id": "9fb29fe2",
   "metadata": {},
   "outputs": [],
   "source": [
    "import cv2\n",
    "import numpy as np"
   ]
  },
  {
   "cell_type": "code",
   "execution_count": null,
   "id": "01fcb1cb",
   "metadata": {},
   "outputs": [],
   "source": [
    "# Load YOLOv3 weights and configuration\n",
    "net = cv2.dnn.readNet('yolov3.weights', 'yolov3.cfg')"
   ]
  },
  {
   "cell_type": "code",
   "execution_count": null,
   "id": "559a9b60",
   "metadata": {},
   "outputs": [],
   "source": [
    "# Load COCO class names\n",
    "with open('coco.names', 'r') as f:\n",
    "    classes = f.read().strip().split('\\n')"
   ]
  },
  {
   "cell_type": "code",
   "execution_count": null,
   "id": "e03f4cd2",
   "metadata": {},
   "outputs": [],
   "source": [
    "# Get output layer names\n",
    "layer_names = net.getUnconnectedOutLayersNames()"
   ]
  },
  {
   "cell_type": "code",
   "execution_count": null,
   "id": "7e051bb9",
   "metadata": {},
   "outputs": [],
   "source": [
    "# Open video stream (0 for default camera, or provide a video file path)\n",
    "cap = cv2.VideoCapture(1)"
   ]
  },
  {
   "cell_type": "code",
   "execution_count": null,
   "id": "107cb743",
   "metadata": {},
   "outputs": [],
   "source": [
    "while True:\n",
    "    ret, frame = cap.read()\n",
    "\n",
    "    if not ret:\n",
    "        break\n",
    "\n",
    "    # Preprocess the frame for YOLOv3\n",
    "    blob = cv2.dnn.blobFromImage(frame, 1/255.0, (416, 416), swapRB=True, crop=False)\n",
    "    net.setInput(blob)\n",
    "\n",
    "    # Forward pass through the network\n",
    "    detections = net.forward(layer_names)\n",
    "\n",
    "    # Post-process the detections\n",
    "    for detection in detections:\n",
    "        for obj in detection:\n",
    "            scores = obj[5:]\n",
    "            class_id = np.argmax(scores)\n",
    "            confidence = scores[class_id]\n",
    "\n",
    "            if confidence > 0.5:  # Adjust this threshold as needed\n",
    "                center_x = int(obj[0] * frame.shape[1])\n",
    "                center_y = int(obj[1] * frame.shape[0])\n",
    "                width = int(obj[2] * frame.shape[1])\n",
    "                height = int(obj[3] * frame.shape[0])\n",
    "\n",
    "                x = int(center_x - width / 2)\n",
    "                y = int(center_y - height / 2)\n",
    "\n",
    "                cv2.rectangle(frame, (x, y), (x + width, y + height), (0, 255, 0), 2)\n",
    "                label = f\"{classes[class_id]}: {confidence:.2f}\"\n",
    "                cv2.putText(frame, label, (x, y - 10), cv2.FONT_HERSHEY_SIMPLEX, 0.5, (0, 255, 0), 2)\n"
   ]
  },
  {
   "cell_type": "code",
   "execution_count": null,
   "id": "faf5de81",
   "metadata": {},
   "outputs": [],
   "source": [
    " cv2.imshow('Object Detection', frame)\n",
    "     if cv2.waitKey(1) & 0xFF == ord('q'):\n",
    "        break"
   ]
  },
  {
   "cell_type": "code",
   "execution_count": null,
   "id": "20872d06",
   "metadata": {},
   "outputs": [],
   "source": [
    "cap.release()\n",
    "cv2.destroyAllWindows()"
   ]
  }
 ],
 "metadata": {
  "kernelspec": {
   "display_name": "Python 3 (ipykernel)",
   "language": "python",
   "name": "python3"
  },
  "language_info": {
   "codemirror_mode": {
    "name": "ipython",
    "version": 3
   },
   "file_extension": ".py",
   "mimetype": "text/x-python",
   "name": "python",
   "nbconvert_exporter": "python",
   "pygments_lexer": "ipython3",
   "version": "3.11.4"
  }
 },
 "nbformat": 4,
 "nbformat_minor": 5
}
